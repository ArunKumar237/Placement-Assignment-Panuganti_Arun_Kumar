{
  "nbformat": 4,
  "nbformat_minor": 0,
  "metadata": {
    "colab": {
      "provenance": [],
      "gpuType": "T4"
    },
    "kernelspec": {
      "name": "python3",
      "display_name": "Python 3"
    },
    "language_info": {
      "name": "python"
    }
  },
  "cells": [
    {
      "cell_type": "code",
      "source": [
        "!pip install patool"
      ],
      "metadata": {
        "colab": {
          "base_uri": "https://localhost:8080/"
        },
        "id": "SzVKV9BZBrIt",
        "outputId": "6daf6ea2-eeb2-47da-945c-7520f620be4b"
      },
      "execution_count": 1,
      "outputs": [
        {
          "output_type": "stream",
          "name": "stdout",
          "text": [
            "Collecting patool\n",
            "  Downloading patool-1.12-py2.py3-none-any.whl (77 kB)\n",
            "\u001b[?25l     \u001b[90m━━━━━━━━━━━━━━━━━━━━━━━━━━━━━━━━━━━━━━━━\u001b[0m \u001b[32m0.0/77.5 kB\u001b[0m \u001b[31m?\u001b[0m eta \u001b[36m-:--:--\u001b[0m\r\u001b[2K     \u001b[90m━━━━━━━━━━━━━━━━━━━━━━━━━━━━━━━━━━━━━━━━\u001b[0m \u001b[32m77.5/77.5 kB\u001b[0m \u001b[31m3.0 MB/s\u001b[0m eta \u001b[36m0:00:00\u001b[0m\n",
            "\u001b[?25hInstalling collected packages: patool\n",
            "Successfully installed patool-1.12\n"
          ]
        }
      ]
    },
    {
      "cell_type": "markdown",
      "source": [
        "# Downloading data"
      ],
      "metadata": {
        "id": "RX1ohCfqUZ4T"
      }
    },
    {
      "cell_type": "code",
      "execution_count": 2,
      "metadata": {
        "id": "xD9k9BJe_-2y"
      },
      "outputs": [],
      "source": [
        "import pandas as pd\n",
        "import requests\n",
        "import patoolib\n",
        "from pathlib import Path\n",
        "import os"
      ]
    },
    {
      "cell_type": "code",
      "source": [
        "os.makedirs('data')\n",
        "dest_path = os.path.join(os.getcwd(),'data')"
      ],
      "metadata": {
        "id": "Qq8oXpefNyNG"
      },
      "execution_count": 3,
      "outputs": []
    },
    {
      "cell_type": "code",
      "source": [
        "URL = \"https://raw.githubusercontent.com/rodrigosantis1/backorder_prediction/master/dataset.rar\"\n",
        "response = requests.get(URL)\n",
        "open(\"data/dataset.rar\", \"wb\").write(response.content)\n"
      ],
      "metadata": {
        "colab": {
          "base_uri": "https://localhost:8080/"
        },
        "id": "8b2g0Lu8AD5P",
        "outputId": "1b3452a6-448b-4181-9a88-70ed8c09279e"
      },
      "execution_count": 4,
      "outputs": [
        {
          "output_type": "execute_result",
          "data": {
            "text/plain": [
              "24741696"
            ]
          },
          "metadata": {},
          "execution_count": 4
        }
      ]
    },
    {
      "cell_type": "code",
      "source": [
        "patoolib.extract_archive(dest_path+'/dataset.rar', outdir=dest_path)"
      ],
      "metadata": {
        "colab": {
          "base_uri": "https://localhost:8080/",
          "height": 105
        },
        "id": "AaCvsGWTBBmr",
        "outputId": "1b656fbe-6ff1-444c-b43d-3f8320d82af5"
      },
      "execution_count": 5,
      "outputs": [
        {
          "output_type": "stream",
          "name": "stdout",
          "text": [
            "patool: Extracting /content/data/dataset.rar ...\n",
            "patool: running /usr/bin/unrar x -- /content/data/dataset.rar\n",
            "patool:     with cwd='/content/data'\n",
            "patool: ... /content/data/dataset.rar extracted to `/content/data'.\n"
          ]
        },
        {
          "output_type": "execute_result",
          "data": {
            "text/plain": [
              "'/content/data'"
            ],
            "application/vnd.google.colaboratory.intrinsic+json": {
              "type": "string"
            }
          },
          "metadata": {},
          "execution_count": 5
        }
      ]
    },
    {
      "cell_type": "markdown",
      "source": [
        "# Preparing Data"
      ],
      "metadata": {
        "id": "aDxGIxShUfS2"
      }
    },
    {
      "cell_type": "code",
      "source": [
        "df1 = pd.read_csv(dest_path+'/Kaggle_Training_Dataset_v2.csv')\n",
        "df2 = pd.read_csv(dest_path+'/Kaggle_Test_Dataset_v2.csv')"
      ],
      "metadata": {
        "colab": {
          "base_uri": "https://localhost:8080/"
        },
        "id": "RNpAdx2fUAOs",
        "outputId": "38d6fa02-df5f-4e50-db12-7de28cd42180"
      },
      "execution_count": 6,
      "outputs": [
        {
          "output_type": "stream",
          "name": "stderr",
          "text": [
            "<ipython-input-6-d3d6d640aed0>:1: DtypeWarning: Columns (0) have mixed types. Specify dtype option on import or set low_memory=False.\n",
            "  df1 = pd.read_csv(dest_path+'/Kaggle_Training_Dataset_v2.csv')\n",
            "<ipython-input-6-d3d6d640aed0>:2: DtypeWarning: Columns (0) have mixed types. Specify dtype option on import or set low_memory=False.\n",
            "  df2 = pd.read_csv(dest_path+'/Kaggle_Test_Dataset_v2.csv')\n"
          ]
        }
      ]
    },
    {
      "cell_type": "code",
      "source": [
        "df3 = pd.concat([df1,df2])"
      ],
      "metadata": {
        "id": "jc8A11aAU9Pi"
      },
      "execution_count": 7,
      "outputs": []
    },
    {
      "cell_type": "code",
      "source": [
        "df3.info()"
      ],
      "metadata": {
        "colab": {
          "base_uri": "https://localhost:8080/"
        },
        "id": "7fmy8NlTX7ih",
        "outputId": "38432bc6-099e-49b2-cb9a-ef12a5b84026"
      },
      "execution_count": 8,
      "outputs": [
        {
          "output_type": "stream",
          "name": "stdout",
          "text": [
            "<class 'pandas.core.frame.DataFrame'>\n",
            "Int64Index: 1929937 entries, 0 to 242075\n",
            "Data columns (total 23 columns):\n",
            " #   Column             Dtype  \n",
            "---  ------             -----  \n",
            " 0   sku                object \n",
            " 1   national_inv       float64\n",
            " 2   lead_time          float64\n",
            " 3   in_transit_qty     float64\n",
            " 4   forecast_3_month   float64\n",
            " 5   forecast_6_month   float64\n",
            " 6   forecast_9_month   float64\n",
            " 7   sales_1_month      float64\n",
            " 8   sales_3_month      float64\n",
            " 9   sales_6_month      float64\n",
            " 10  sales_9_month      float64\n",
            " 11  min_bank           float64\n",
            " 12  potential_issue    object \n",
            " 13  pieces_past_due    float64\n",
            " 14  perf_6_month_avg   float64\n",
            " 15  perf_12_month_avg  float64\n",
            " 16  local_bo_qty       float64\n",
            " 17  deck_risk          object \n",
            " 18  oe_constraint      object \n",
            " 19  ppap_risk          object \n",
            " 20  stop_auto_buy      object \n",
            " 21  rev_stop           object \n",
            " 22  went_on_backorder  object \n",
            "dtypes: float64(15), object(8)\n",
            "memory usage: 353.4+ MB\n"
          ]
        }
      ]
    },
    {
      "cell_type": "code",
      "source": [
        "df3.drop(columns='sku',inplace=True)\n",
        "df3.shape"
      ],
      "metadata": {
        "colab": {
          "base_uri": "https://localhost:8080/"
        },
        "id": "0_OOdCF6fITy",
        "outputId": "f0700320-4d3e-4103-cc44-5921fc81c22e"
      },
      "execution_count": 9,
      "outputs": [
        {
          "output_type": "execute_result",
          "data": {
            "text/plain": [
              "(1929937, 22)"
            ]
          },
          "metadata": {},
          "execution_count": 9
        }
      ]
    },
    {
      "cell_type": "code",
      "source": [
        "# fetching numeric and categoric features in different lists\n",
        "numeric_features = []\n",
        "categorical_features = []\n",
        "for i in df3.columns:\n",
        "  if df3[i].dtype == 'O':\n",
        "    categorical_features.append(i)\n",
        "  else:\n",
        "    numeric_features.append(i)\n",
        "\n",
        "print('numeric_features: ',numeric_features)\n",
        "print('categorial_features: ', categorical_features)"
      ],
      "metadata": {
        "colab": {
          "base_uri": "https://localhost:8080/"
        },
        "id": "FUJagrb4KCQa",
        "outputId": "b549be49-f831-4c67-906d-f20cbb1b57e2"
      },
      "execution_count": 10,
      "outputs": [
        {
          "output_type": "stream",
          "name": "stdout",
          "text": [
            "numeric_features:  ['national_inv', 'lead_time', 'in_transit_qty', 'forecast_3_month', 'forecast_6_month', 'forecast_9_month', 'sales_1_month', 'sales_3_month', 'sales_6_month', 'sales_9_month', 'min_bank', 'pieces_past_due', 'perf_6_month_avg', 'perf_12_month_avg', 'local_bo_qty']\n",
            "categorial_features:  ['potential_issue', 'deck_risk', 'oe_constraint', 'ppap_risk', 'stop_auto_buy', 'rev_stop', 'went_on_backorder']\n"
          ]
        }
      ]
    },
    {
      "cell_type": "markdown",
      "source": [
        "### Imputation"
      ],
      "metadata": {
        "id": "rh5PFoaplyqk"
      }
    },
    {
      "cell_type": "code",
      "source": [
        "df3.isna().sum()"
      ],
      "metadata": {
        "colab": {
          "base_uri": "https://localhost:8080/"
        },
        "id": "I4uVB1-slbpb",
        "outputId": "74c3009a-a272-4f88-f99e-dfa2b5676696"
      },
      "execution_count": 11,
      "outputs": [
        {
          "output_type": "execute_result",
          "data": {
            "text/plain": [
              "national_inv              2\n",
              "lead_time            115619\n",
              "in_transit_qty            2\n",
              "forecast_3_month          2\n",
              "forecast_6_month          2\n",
              "forecast_9_month          2\n",
              "sales_1_month             2\n",
              "sales_3_month             2\n",
              "sales_6_month             2\n",
              "sales_9_month             2\n",
              "min_bank                  2\n",
              "potential_issue           2\n",
              "pieces_past_due           2\n",
              "perf_6_month_avg          2\n",
              "perf_12_month_avg         2\n",
              "local_bo_qty              2\n",
              "deck_risk                 2\n",
              "oe_constraint             2\n",
              "ppap_risk                 2\n",
              "stop_auto_buy             2\n",
              "rev_stop                  2\n",
              "went_on_backorder         2\n",
              "dtype: int64"
            ]
          },
          "metadata": {},
          "execution_count": 11
        }
      ]
    },
    {
      "cell_type": "code",
      "source": [
        "from sklearn.impute import SimpleImputer\n",
        "impute = SimpleImputer(strategy='mean')\n",
        "df3['lead_time'] = impute.fit_transform(df3[['lead_time']])"
      ],
      "metadata": {
        "id": "Km6UMwTwol1d"
      },
      "execution_count": 12,
      "outputs": []
    },
    {
      "cell_type": "code",
      "source": [
        "df3.dropna(inplace=True)"
      ],
      "metadata": {
        "id": "Ilc0mi6Lmlin"
      },
      "execution_count": 13,
      "outputs": []
    },
    {
      "cell_type": "markdown",
      "source": [
        "### Converting categorical to Numerical"
      ],
      "metadata": {
        "id": "HHe0nrDHvYGd"
      }
    },
    {
      "cell_type": "code",
      "source": [
        "from sklearn.preprocessing import OrdinalEncoder\n",
        "enc = OrdinalEncoder()\n",
        "enc.fit(df3[categorical_features])\n",
        "df3[categorical_features] = enc.transform(df3[categorical_features])"
      ],
      "metadata": {
        "id": "iQzExk0xvUv1"
      },
      "execution_count": 14,
      "outputs": []
    },
    {
      "cell_type": "markdown",
      "source": [
        "### Handling imbalance data"
      ],
      "metadata": {
        "id": "6AN4ixZVqUuZ"
      }
    },
    {
      "cell_type": "code",
      "source": [
        "df3['went_on_backorder'].value_counts()"
      ],
      "metadata": {
        "colab": {
          "base_uri": "https://localhost:8080/"
        },
        "id": "keB2H0UpqF7M",
        "outputId": "44313d91-ce89-4a03-caaf-7f1c1ad78a2a"
      },
      "execution_count": 15,
      "outputs": [
        {
          "output_type": "execute_result",
          "data": {
            "text/plain": [
              "0.0    1915954\n",
              "1.0      13981\n",
              "Name: went_on_backorder, dtype: int64"
            ]
          },
          "metadata": {},
          "execution_count": 15
        }
      ]
    },
    {
      "cell_type": "code",
      "source": [
        "from sklearn.utils import resample\n",
        "\n",
        "df_majority = df3[(df3['went_on_backorder']==0)]\n",
        "df_minority = df3[(df3['went_on_backorder']==1)]\n",
        "\n",
        "# downsample majority class\n",
        "df_majority_downsampled = resample(df_majority,\n",
        "                                 replace=True,    # sample with replacement\n",
        "                                 n_samples= df3['went_on_backorder'].value_counts().min(), # to match majority class\n",
        "                                 random_state=42)  # reproducible results\n",
        "\n",
        "# Combine minority class with downsampled majority class\n",
        "df_downsampled = pd.concat([df_majority_downsampled, df_minority])"
      ],
      "metadata": {
        "id": "zcF7FcS1qciN"
      },
      "execution_count": 16,
      "outputs": []
    },
    {
      "cell_type": "code",
      "source": [
        "df_downsampled['went_on_backorder'].value_counts()"
      ],
      "metadata": {
        "colab": {
          "base_uri": "https://localhost:8080/"
        },
        "id": "Q6o0PDcPiRyJ",
        "outputId": "725c08bc-a813-41ca-c471-a158ec2bbb22"
      },
      "execution_count": 17,
      "outputs": [
        {
          "output_type": "execute_result",
          "data": {
            "text/plain": [
              "0.0    13981\n",
              "1.0    13981\n",
              "Name: went_on_backorder, dtype: int64"
            ]
          },
          "metadata": {},
          "execution_count": 17
        }
      ]
    },
    {
      "cell_type": "markdown",
      "source": [
        "### Train Test Split"
      ],
      "metadata": {
        "id": "wENK3ndEkfzu"
      }
    },
    {
      "cell_type": "code",
      "source": [
        "from sklearn.model_selection import train_test_split\n",
        "\n",
        "X_train, X_test, y_train, y_test = train_test_split(df_downsampled.iloc[:,:-1], df_downsampled.iloc[:,-1], test_size=0.2, random_state=41)\n",
        "X_train.shape, X_test.shape, y_train.shape, y_test.shape"
      ],
      "metadata": {
        "colab": {
          "base_uri": "https://localhost:8080/"
        },
        "id": "KMWOBbUXken9",
        "outputId": "da2a5ed2-1782-45f4-c58b-5283bf9a78e4"
      },
      "execution_count": 18,
      "outputs": [
        {
          "output_type": "execute_result",
          "data": {
            "text/plain": [
              "((22369, 21), (5593, 21), (22369,), (5593,))"
            ]
          },
          "metadata": {},
          "execution_count": 18
        }
      ]
    },
    {
      "cell_type": "markdown",
      "source": [
        "### Scaling the Data"
      ],
      "metadata": {
        "id": "PIR0rAjCTDjF"
      }
    },
    {
      "cell_type": "code",
      "source": [
        "from sklearn.preprocessing import StandardScaler\n",
        "scale = StandardScaler()\n",
        "X_train = scale.fit_transform(X_train)\n",
        "X_test = scale.transform(X_test)"
      ],
      "metadata": {
        "id": "so-4BjMXTN25"
      },
      "execution_count": 19,
      "outputs": []
    },
    {
      "cell_type": "code",
      "source": [
        "X_train[0]"
      ],
      "metadata": {
        "colab": {
          "base_uri": "https://localhost:8080/"
        },
        "id": "RVo_GZ7BTxpu",
        "outputId": "0f9f7574-407e-48ce-ac52-97b5a4aea8bc"
      },
      "execution_count": 20,
      "outputs": [
        {
          "output_type": "execute_result",
          "data": {
            "text/plain": [
              "array([-0.11202732,  0.16064091, -0.0731738 , -0.05509312, -0.05946751,\n",
              "       -0.05707092, -0.11593292, -0.13508416, -0.13725057, -0.13014371,\n",
              "       -0.10072563, -0.05186037, -0.0551113 ,  0.25286037,  0.24648095,\n",
              "       -0.04340036, -0.48979384, -0.0189147 , -0.39393512,  0.20188476,\n",
              "       -0.0189147 ])"
            ]
          },
          "metadata": {},
          "execution_count": 20
        }
      ]
    },
    {
      "cell_type": "code",
      "source": [
        "X_test[0]"
      ],
      "metadata": {
        "colab": {
          "base_uri": "https://localhost:8080/"
        },
        "id": "9XC-ET_wT7qO",
        "outputId": "a56566b9-c0a4-4e46-f14f-112b7020f613"
      },
      "execution_count": 21,
      "outputs": [
        {
          "output_type": "execute_result",
          "data": {
            "text/plain": [
              "array([-0.09956829, -0.56022603, -0.0731738 , -0.05509312, -0.05946751,\n",
              "       -0.05707092, -0.11593292, -0.13508416, -0.13725057, -0.12920678,\n",
              "       -0.10072563, -0.05186037, -0.0551113 ,  0.24902054,  0.24385121,\n",
              "       -0.04340036, -0.48979384, -0.0189147 , -0.39393512,  0.20188476,\n",
              "       -0.0189147 ])"
            ]
          },
          "metadata": {},
          "execution_count": 21
        }
      ]
    },
    {
      "cell_type": "code",
      "source": [
        "y_train[:10]"
      ],
      "metadata": {
        "colab": {
          "base_uri": "https://localhost:8080/"
        },
        "id": "dsaKjnKLUBG6",
        "outputId": "24ec2271-0ed3-4423-8bf4-93bb692906ff"
      },
      "execution_count": 22,
      "outputs": [
        {
          "output_type": "execute_result",
          "data": {
            "text/plain": [
              "132631     0.0\n",
              "333026     1.0\n",
              "7543       1.0\n",
              "238005     1.0\n",
              "398569     0.0\n",
              "147234     1.0\n",
              "1117857    1.0\n",
              "1280969    0.0\n",
              "25044      0.0\n",
              "1375026    1.0\n",
              "Name: went_on_backorder, dtype: float64"
            ]
          },
          "metadata": {},
          "execution_count": 22
        }
      ]
    },
    {
      "cell_type": "code",
      "source": [
        "y_test[:10]"
      ],
      "metadata": {
        "colab": {
          "base_uri": "https://localhost:8080/"
        },
        "id": "aa8Frb3YUEyk",
        "outputId": "7f1768a5-fa4b-4f66-d243-9e30c2dd007f"
      },
      "execution_count": 23,
      "outputs": [
        {
          "output_type": "execute_result",
          "data": {
            "text/plain": [
              "90260      0.0\n",
              "1224458    1.0\n",
              "134625     1.0\n",
              "205904     0.0\n",
              "133777     1.0\n",
              "299877     0.0\n",
              "1265995    0.0\n",
              "1157479    0.0\n",
              "93095      1.0\n",
              "386357     0.0\n",
              "Name: went_on_backorder, dtype: float64"
            ]
          },
          "metadata": {},
          "execution_count": 23
        }
      ]
    },
    {
      "cell_type": "markdown",
      "source": [
        "### Training using Logistic Regression and predicting"
      ],
      "metadata": {
        "id": "mqaLxIS1kAyG"
      }
    },
    {
      "cell_type": "code",
      "source": [
        "from sklearn.linear_model import LogisticRegression"
      ],
      "metadata": {
        "id": "TTyU5pxfurLY"
      },
      "execution_count": 24,
      "outputs": []
    },
    {
      "cell_type": "code",
      "source": [
        "Lr = LogisticRegression()"
      ],
      "metadata": {
        "id": "Ql4ELbr2i3jL"
      },
      "execution_count": 25,
      "outputs": []
    },
    {
      "cell_type": "code",
      "source": [
        "Lr.fit(X_train,y_train)"
      ],
      "metadata": {
        "colab": {
          "base_uri": "https://localhost:8080/",
          "height": 213
        },
        "id": "MZO70uoPka7u",
        "outputId": "bfd6acf1-aa4f-4515-eeac-c070f14bb9e8"
      },
      "execution_count": 26,
      "outputs": [
        {
          "output_type": "stream",
          "name": "stderr",
          "text": [
            "/usr/local/lib/python3.10/dist-packages/sklearn/linear_model/_logistic.py:458: ConvergenceWarning: lbfgs failed to converge (status=1):\n",
            "STOP: TOTAL NO. of ITERATIONS REACHED LIMIT.\n",
            "\n",
            "Increase the number of iterations (max_iter) or scale the data as shown in:\n",
            "    https://scikit-learn.org/stable/modules/preprocessing.html\n",
            "Please also refer to the documentation for alternative solver options:\n",
            "    https://scikit-learn.org/stable/modules/linear_model.html#logistic-regression\n",
            "  n_iter_i = _check_optimize_result(\n"
          ]
        },
        {
          "output_type": "execute_result",
          "data": {
            "text/plain": [
              "LogisticRegression()"
            ],
            "text/html": [
              "<style>#sk-container-id-1 {color: black;background-color: white;}#sk-container-id-1 pre{padding: 0;}#sk-container-id-1 div.sk-toggleable {background-color: white;}#sk-container-id-1 label.sk-toggleable__label {cursor: pointer;display: block;width: 100%;margin-bottom: 0;padding: 0.3em;box-sizing: border-box;text-align: center;}#sk-container-id-1 label.sk-toggleable__label-arrow:before {content: \"▸\";float: left;margin-right: 0.25em;color: #696969;}#sk-container-id-1 label.sk-toggleable__label-arrow:hover:before {color: black;}#sk-container-id-1 div.sk-estimator:hover label.sk-toggleable__label-arrow:before {color: black;}#sk-container-id-1 div.sk-toggleable__content {max-height: 0;max-width: 0;overflow: hidden;text-align: left;background-color: #f0f8ff;}#sk-container-id-1 div.sk-toggleable__content pre {margin: 0.2em;color: black;border-radius: 0.25em;background-color: #f0f8ff;}#sk-container-id-1 input.sk-toggleable__control:checked~div.sk-toggleable__content {max-height: 200px;max-width: 100%;overflow: auto;}#sk-container-id-1 input.sk-toggleable__control:checked~label.sk-toggleable__label-arrow:before {content: \"▾\";}#sk-container-id-1 div.sk-estimator input.sk-toggleable__control:checked~label.sk-toggleable__label {background-color: #d4ebff;}#sk-container-id-1 div.sk-label input.sk-toggleable__control:checked~label.sk-toggleable__label {background-color: #d4ebff;}#sk-container-id-1 input.sk-hidden--visually {border: 0;clip: rect(1px 1px 1px 1px);clip: rect(1px, 1px, 1px, 1px);height: 1px;margin: -1px;overflow: hidden;padding: 0;position: absolute;width: 1px;}#sk-container-id-1 div.sk-estimator {font-family: monospace;background-color: #f0f8ff;border: 1px dotted black;border-radius: 0.25em;box-sizing: border-box;margin-bottom: 0.5em;}#sk-container-id-1 div.sk-estimator:hover {background-color: #d4ebff;}#sk-container-id-1 div.sk-parallel-item::after {content: \"\";width: 100%;border-bottom: 1px solid gray;flex-grow: 1;}#sk-container-id-1 div.sk-label:hover label.sk-toggleable__label {background-color: #d4ebff;}#sk-container-id-1 div.sk-serial::before {content: \"\";position: absolute;border-left: 1px solid gray;box-sizing: border-box;top: 0;bottom: 0;left: 50%;z-index: 0;}#sk-container-id-1 div.sk-serial {display: flex;flex-direction: column;align-items: center;background-color: white;padding-right: 0.2em;padding-left: 0.2em;position: relative;}#sk-container-id-1 div.sk-item {position: relative;z-index: 1;}#sk-container-id-1 div.sk-parallel {display: flex;align-items: stretch;justify-content: center;background-color: white;position: relative;}#sk-container-id-1 div.sk-item::before, #sk-container-id-1 div.sk-parallel-item::before {content: \"\";position: absolute;border-left: 1px solid gray;box-sizing: border-box;top: 0;bottom: 0;left: 50%;z-index: -1;}#sk-container-id-1 div.sk-parallel-item {display: flex;flex-direction: column;z-index: 1;position: relative;background-color: white;}#sk-container-id-1 div.sk-parallel-item:first-child::after {align-self: flex-end;width: 50%;}#sk-container-id-1 div.sk-parallel-item:last-child::after {align-self: flex-start;width: 50%;}#sk-container-id-1 div.sk-parallel-item:only-child::after {width: 0;}#sk-container-id-1 div.sk-dashed-wrapped {border: 1px dashed gray;margin: 0 0.4em 0.5em 0.4em;box-sizing: border-box;padding-bottom: 0.4em;background-color: white;}#sk-container-id-1 div.sk-label label {font-family: monospace;font-weight: bold;display: inline-block;line-height: 1.2em;}#sk-container-id-1 div.sk-label-container {text-align: center;}#sk-container-id-1 div.sk-container {/* jupyter's `normalize.less` sets `[hidden] { display: none; }` but bootstrap.min.css set `[hidden] { display: none !important; }` so we also need the `!important` here to be able to override the default hidden behavior on the sphinx rendered scikit-learn.org. See: https://github.com/scikit-learn/scikit-learn/issues/21755 */display: inline-block !important;position: relative;}#sk-container-id-1 div.sk-text-repr-fallback {display: none;}</style><div id=\"sk-container-id-1\" class=\"sk-top-container\"><div class=\"sk-text-repr-fallback\"><pre>LogisticRegression()</pre><b>In a Jupyter environment, please rerun this cell to show the HTML representation or trust the notebook. <br />On GitHub, the HTML representation is unable to render, please try loading this page with nbviewer.org.</b></div><div class=\"sk-container\" hidden><div class=\"sk-item\"><div class=\"sk-estimator sk-toggleable\"><input class=\"sk-toggleable__control sk-hidden--visually\" id=\"sk-estimator-id-1\" type=\"checkbox\" checked><label for=\"sk-estimator-id-1\" class=\"sk-toggleable__label sk-toggleable__label-arrow\">LogisticRegression</label><div class=\"sk-toggleable__content\"><pre>LogisticRegression()</pre></div></div></div></div></div>"
            ]
          },
          "metadata": {},
          "execution_count": 26
        }
      ]
    },
    {
      "cell_type": "code",
      "source": [
        "y_pred = Lr.predict(X_test)"
      ],
      "metadata": {
        "id": "zcTXrIg_l6Zt"
      },
      "execution_count": 27,
      "outputs": []
    },
    {
      "cell_type": "markdown",
      "source": [
        "### Evaluation"
      ],
      "metadata": {
        "id": "L3VR0uBcmxv4"
      }
    },
    {
      "cell_type": "code",
      "source": [
        "from sklearn.metrics import classification_report\n",
        "print(classification_report(y_pred,y_test))"
      ],
      "metadata": {
        "colab": {
          "base_uri": "https://localhost:8080/"
        },
        "id": "nl_7Xy_GmjYB",
        "outputId": "5b1de9e8-55e7-4011-aaac-5770fcfc2afd"
      },
      "execution_count": 28,
      "outputs": [
        {
          "output_type": "stream",
          "name": "stdout",
          "text": [
            "              precision    recall  f1-score   support\n",
            "\n",
            "         0.0       0.54      0.78      0.64      1959\n",
            "         1.0       0.85      0.63      0.72      3634\n",
            "\n",
            "    accuracy                           0.69      5593\n",
            "   macro avg       0.69      0.71      0.68      5593\n",
            "weighted avg       0.74      0.69      0.69      5593\n",
            "\n"
          ]
        }
      ]
    },
    {
      "cell_type": "markdown",
      "source": [
        "# Using deeplearning using Tensorflow and Keras"
      ],
      "metadata": {
        "id": "k9YPOToO6W_o"
      }
    },
    {
      "cell_type": "code",
      "source": [
        "from tensorflow.keras.models import Sequential\n",
        "from tensorflow.keras.layers import Dense, Activation\n",
        "import tensorflow as tf"
      ],
      "metadata": {
        "id": "haWREPGL-sI7"
      },
      "execution_count": 29,
      "outputs": []
    },
    {
      "cell_type": "code",
      "source": [
        "# Define i/p and o/p shapes of tensors\n",
        "input_dims = X_train.shape[1]\n",
        "output_dims = 2"
      ],
      "metadata": {
        "id": "twmRVWao6Iqc"
      },
      "execution_count": 30,
      "outputs": []
    },
    {
      "cell_type": "code",
      "source": [
        "# Defining Sequential model\n",
        "model = Sequential()\n",
        "\n",
        "# Add i/p layer to the sequential model\n",
        "model.add(tf.keras.Input(shape = (input_dims,), name = 'inputLayer'))\n",
        "\n",
        "# Add first dense layer to the sequential model\n",
        "model.add(Dense(60, activation='relu', name='HLayer1'))\n",
        "model.add(tf.keras.layers.Dropout(0.2))\n",
        "\n",
        "# Add Second dense layer to the model\n",
        "model.add(Dense(30, activation='relu', name='HLayer2'))\n",
        "model.add(tf.keras.layers.Dropout(0.2))\n",
        "\n",
        "\n",
        "# Add Second dense layer to the model\n",
        "model.add(Dense(15, activation='relu', name='HLayer3'))\n",
        "model.add(tf.keras.layers.Dropout(0.2))\n",
        "\n",
        "\n",
        "# Add output layer\n",
        "model.add(Dense(1, activation='sigmoid', name='outputlayer'))\n"
      ],
      "metadata": {
        "id": "ndAA221z_SHG"
      },
      "execution_count": 60,
      "outputs": []
    },
    {
      "cell_type": "code",
      "source": [
        "model.summary()"
      ],
      "metadata": {
        "colab": {
          "base_uri": "https://localhost:8080/"
        },
        "id": "2QRsoCTBB2pw",
        "outputId": "a1525806-b64d-4a41-f2a7-48ed7c413459"
      },
      "execution_count": 61,
      "outputs": [
        {
          "output_type": "stream",
          "name": "stdout",
          "text": [
            "Model: \"sequential_2\"\n",
            "_________________________________________________________________\n",
            " Layer (type)                Output Shape              Param #   \n",
            "=================================================================\n",
            " HLayer1 (Dense)             (None, 60)                1320      \n",
            "                                                                 \n",
            " dropout (Dropout)           (None, 60)                0         \n",
            "                                                                 \n",
            " HLayer2 (Dense)             (None, 30)                1830      \n",
            "                                                                 \n",
            " dropout_1 (Dropout)         (None, 30)                0         \n",
            "                                                                 \n",
            " HLayer3 (Dense)             (None, 15)                465       \n",
            "                                                                 \n",
            " dropout_2 (Dropout)         (None, 15)                0         \n",
            "                                                                 \n",
            " outputlayer (Dense)         (None, 1)                 16        \n",
            "                                                                 \n",
            "=================================================================\n",
            "Total params: 3,631\n",
            "Trainable params: 3,631\n",
            "Non-trainable params: 0\n",
            "_________________________________________________________________\n"
          ]
        }
      ]
    },
    {
      "cell_type": "code",
      "source": [
        "from tensorflow.keras.utils import plot_model\n",
        "plot_model(model)"
      ],
      "metadata": {
        "colab": {
          "base_uri": "https://localhost:8080/",
          "height": 758
        },
        "id": "ILz-h0GaB89A",
        "outputId": "a1b5277a-5f64-49d3-bc59-f4fd5919bbba"
      },
      "execution_count": 62,
      "outputs": [
        {
          "output_type": "execute_result",
          "data": {
            "image/png": "[encoded data removed]",
            "text/plain": [
              "<IPython.core.display.Image object>"
            ]
          },
          "metadata": {},
          "execution_count": 62
        }
      ]
    },
    {
      "cell_type": "code",
      "source": [
        "from tensorflow.keras.optimizers import Adam\n",
        "\n",
        "# Defining optimizer\n",
        "optimizer = Adam(0.001)\n",
        "\n",
        "# Compiling the model\n",
        "model.compile(loss='binary_crossentropy',\n",
        "              optimizer = optimizer,\n",
        "              metrics = ['accuracy'])"
      ],
      "metadata": {
        "id": "VcwpkhtJCHC2"
      },
      "execution_count": 63,
      "outputs": []
    },
    {
      "cell_type": "code",
      "source": [
        "callback = tf.keras.callbacks.ModelCheckpoint(\n",
        "    os.path.join(dest_path,'best_model.h5'),\n",
        "    monitor = 'val_loss',\n",
        "    verbose = 0,\n",
        "    save_best_only = True,\n",
        "    save_weights_only = False,\n",
        "    mode = 'auto',\n",
        "    save_freq ='epoch',\n",
        "    options=None,\n",
        "    initial_value_threshold=None,\n",
        ")"
      ],
      "metadata": {
        "id": "BBe7Bc7meI8R"
      },
      "execution_count": 91,
      "outputs": []
    },
    {
      "cell_type": "code",
      "source": [
        "# Training the neural network\n",
        "\n",
        "batch_size = 10\n",
        "num_epoch = 100\n",
        "\n",
        "#fit newural network\n",
        "binary_clf = model.fit(X_train, y_train,\n",
        "                       validation_split=0.2,\n",
        "                       epochs=num_epoch,\n",
        "                       batch_size = batch_size,\n",
        "                       callbacks = [callback],\n",
        "                       verbose=1  )"
      ],
      "metadata": {
        "colab": {
          "base_uri": "https://localhost:8080/"
        },
        "id": "S3BgbVJ9EA3I",
        "outputId": "c6f2214a-92ef-46ff-9056-d378f1fa04a6"
      },
      "execution_count": 101,
      "outputs": [
        {
          "output_type": "stream",
          "name": "stdout",
          "text": [
            "Epoch 1/100\n",
            "1790/1790 [==============================] - 4s 2ms/step - loss: 0.3662 - accuracy: 0.8452 - val_loss: 0.3604 - val_accuracy: 0.8518\n",
            "Epoch 2/100\n",
            "1790/1790 [==============================] - 6s 3ms/step - loss: 0.3600 - accuracy: 0.8489 - val_loss: 0.4011 - val_accuracy: 0.8131\n",
            "Epoch 3/100\n",
            "1790/1790 [==============================] - 4s 2ms/step - loss: 0.3645 - accuracy: 0.8490 - val_loss: 0.3496 - val_accuracy: 0.8641\n",
            "Epoch 4/100\n",
            "1790/1790 [==============================] - 4s 2ms/step - loss: 0.3645 - accuracy: 0.8459 - val_loss: 0.3533 - val_accuracy: 0.8494\n",
            "Epoch 5/100\n",
            "1790/1790 [==============================] - 5s 3ms/step - loss: 0.3606 - accuracy: 0.8453 - val_loss: 0.3492 - val_accuracy: 0.8536\n",
            "Epoch 6/100\n",
            "1790/1790 [==============================] - 4s 2ms/step - loss: 0.3578 - accuracy: 0.8482 - val_loss: 0.3457 - val_accuracy: 0.8619\n",
            "Epoch 7/100\n",
            "1790/1790 [==============================] - 5s 3ms/step - loss: 0.3619 - accuracy: 0.8490 - val_loss: 0.3430 - val_accuracy: 0.8628\n",
            "Epoch 8/100\n",
            "1790/1790 [==============================] - 5s 3ms/step - loss: 0.3563 - accuracy: 0.8502 - val_loss: 0.3831 - val_accuracy: 0.8319\n",
            "Epoch 9/100\n",
            "1790/1790 [==============================] - 4s 2ms/step - loss: 0.3618 - accuracy: 0.8505 - val_loss: 0.3688 - val_accuracy: 0.8485\n",
            "Epoch 10/100\n",
            "1790/1790 [==============================] - 5s 3ms/step - loss: 0.3606 - accuracy: 0.8491 - val_loss: 0.3415 - val_accuracy: 0.8603\n",
            "Epoch 11/100\n",
            "1790/1790 [==============================] - 4s 2ms/step - loss: 0.3613 - accuracy: 0.8485 - val_loss: 0.3533 - val_accuracy: 0.8572\n",
            "Epoch 12/100\n",
            "1790/1790 [==============================] - 4s 2ms/step - loss: 0.3580 - accuracy: 0.8488 - val_loss: 0.3592 - val_accuracy: 0.8594\n",
            "Epoch 13/100\n",
            "1790/1790 [==============================] - 5s 3ms/step - loss: 0.3544 - accuracy: 0.8495 - val_loss: 0.3640 - val_accuracy: 0.8511\n",
            "Epoch 14/100\n",
            "1790/1790 [==============================] - 4s 2ms/step - loss: 0.3606 - accuracy: 0.8491 - val_loss: 0.3545 - val_accuracy: 0.8540\n",
            "Epoch 15/100\n",
            "1790/1790 [==============================] - 4s 2ms/step - loss: 0.3643 - accuracy: 0.8492 - val_loss: 0.3467 - val_accuracy: 0.8547\n",
            "Epoch 16/100\n",
            "1790/1790 [==============================] - 5s 3ms/step - loss: 0.3578 - accuracy: 0.8526 - val_loss: 0.3686 - val_accuracy: 0.8447\n",
            "Epoch 17/100\n",
            "1790/1790 [==============================] - 4s 2ms/step - loss: 0.3608 - accuracy: 0.8469 - val_loss: 0.3759 - val_accuracy: 0.8413\n",
            "Epoch 18/100\n",
            "1790/1790 [==============================] - 5s 3ms/step - loss: 0.3614 - accuracy: 0.8475 - val_loss: 0.3796 - val_accuracy: 0.8342\n",
            "Epoch 19/100\n",
            "1790/1790 [==============================] - 5s 3ms/step - loss: 0.3655 - accuracy: 0.8515 - val_loss: 0.3450 - val_accuracy: 0.8623\n",
            "Epoch 20/100\n",
            "1790/1790 [==============================] - 4s 2ms/step - loss: 0.3637 - accuracy: 0.8515 - val_loss: 0.3413 - val_accuracy: 0.8621\n",
            "Epoch 21/100\n",
            "1790/1790 [==============================] - 5s 3ms/step - loss: 0.3591 - accuracy: 0.8497 - val_loss: 0.3775 - val_accuracy: 0.8384\n",
            "Epoch 22/100\n",
            "1790/1790 [==============================] - 4s 2ms/step - loss: 0.3553 - accuracy: 0.8488 - val_loss: 0.3534 - val_accuracy: 0.8601\n",
            "Epoch 23/100\n",
            "1790/1790 [==============================] - 4s 2ms/step - loss: 0.3557 - accuracy: 0.8528 - val_loss: 0.3464 - val_accuracy: 0.8534\n",
            "Epoch 24/100\n",
            "1790/1790 [==============================] - 5s 3ms/step - loss: 0.3611 - accuracy: 0.8514 - val_loss: 0.3694 - val_accuracy: 0.8442\n",
            "Epoch 25/100\n",
            "1790/1790 [==============================] - 4s 2ms/step - loss: 0.3572 - accuracy: 0.8485 - val_loss: 0.3526 - val_accuracy: 0.8534\n",
            "Epoch 26/100\n",
            "1790/1790 [==============================] - 4s 2ms/step - loss: 0.3542 - accuracy: 0.8495 - val_loss: 0.3456 - val_accuracy: 0.8590\n",
            "Epoch 27/100\n",
            "1790/1790 [==============================] - 5s 3ms/step - loss: 0.3603 - accuracy: 0.8480 - val_loss: 0.3717 - val_accuracy: 0.8435\n",
            "Epoch 28/100\n",
            "1790/1790 [==============================] - 4s 2ms/step - loss: 0.3593 - accuracy: 0.8490 - val_loss: 0.3691 - val_accuracy: 0.8473\n",
            "Epoch 29/100\n",
            "1790/1790 [==============================] - 5s 3ms/step - loss: 0.3559 - accuracy: 0.8493 - val_loss: 0.3612 - val_accuracy: 0.8538\n",
            "Epoch 30/100\n",
            "1790/1790 [==============================] - 5s 3ms/step - loss: 0.3553 - accuracy: 0.8503 - val_loss: 0.3430 - val_accuracy: 0.8619\n",
            "Epoch 31/100\n",
            "1790/1790 [==============================] - 4s 2ms/step - loss: 0.3597 - accuracy: 0.8494 - val_loss: 0.3524 - val_accuracy: 0.8603\n",
            "Epoch 32/100\n",
            "1790/1790 [==============================] - 6s 3ms/step - loss: 0.3621 - accuracy: 0.8520 - val_loss: 0.3575 - val_accuracy: 0.8552\n",
            "Epoch 33/100\n",
            "1790/1790 [==============================] - 4s 2ms/step - loss: 0.3561 - accuracy: 0.8509 - val_loss: 0.3836 - val_accuracy: 0.8330\n",
            "Epoch 34/100\n",
            "1790/1790 [==============================] - 4s 2ms/step - loss: 0.3572 - accuracy: 0.8513 - val_loss: 0.3509 - val_accuracy: 0.8661\n",
            "Epoch 35/100\n",
            "1790/1790 [==============================] - 5s 3ms/step - loss: 0.3572 - accuracy: 0.8482 - val_loss: 0.3524 - val_accuracy: 0.8574\n",
            "Epoch 36/100\n",
            "1790/1790 [==============================] - 4s 2ms/step - loss: 0.3618 - accuracy: 0.8515 - val_loss: 0.3525 - val_accuracy: 0.8570\n",
            "Epoch 37/100\n",
            "1790/1790 [==============================] - 5s 3ms/step - loss: 0.3571 - accuracy: 0.8484 - val_loss: 0.3462 - val_accuracy: 0.8623\n",
            "Epoch 38/100\n",
            "1790/1790 [==============================] - 5s 3ms/step - loss: 0.3569 - accuracy: 0.8512 - val_loss: 0.4007 - val_accuracy: 0.8283\n",
            "Epoch 39/100\n",
            "1790/1790 [==============================] - 4s 2ms/step - loss: 0.3597 - accuracy: 0.8473 - val_loss: 0.3533 - val_accuracy: 0.8572\n",
            "Epoch 40/100\n",
            "1790/1790 [==============================] - 6s 3ms/step - loss: 0.3534 - accuracy: 0.8507 - val_loss: 0.3599 - val_accuracy: 0.8543\n",
            "Epoch 41/100\n",
            "1790/1790 [==============================] - 4s 2ms/step - loss: 0.3762 - accuracy: 0.8509 - val_loss: 0.3477 - val_accuracy: 0.8592\n",
            "Epoch 42/100\n",
            "1790/1790 [==============================] - 5s 3ms/step - loss: 0.3532 - accuracy: 0.8523 - val_loss: 0.3674 - val_accuracy: 0.8482\n",
            "Epoch 43/100\n",
            "1790/1790 [==============================] - 6s 3ms/step - loss: 0.3622 - accuracy: 0.8515 - val_loss: 0.3779 - val_accuracy: 0.8377\n",
            "Epoch 44/100\n",
            "1790/1790 [==============================] - 4s 2ms/step - loss: 0.3551 - accuracy: 0.8508 - val_loss: 0.3444 - val_accuracy: 0.8614\n",
            "Epoch 45/100\n",
            "1790/1790 [==============================] - 5s 3ms/step - loss: 0.3617 - accuracy: 0.8509 - val_loss: 0.3504 - val_accuracy: 0.8581\n",
            "Epoch 46/100\n",
            "1790/1790 [==============================] - 5s 3ms/step - loss: 0.3549 - accuracy: 0.8473 - val_loss: 0.3653 - val_accuracy: 0.8549\n",
            "Epoch 47/100\n",
            "1790/1790 [==============================] - 4s 2ms/step - loss: 0.3589 - accuracy: 0.8501 - val_loss: 0.3437 - val_accuracy: 0.8697\n",
            "Epoch 48/100\n",
            "1790/1790 [==============================] - 6s 3ms/step - loss: 0.3551 - accuracy: 0.8519 - val_loss: 0.3582 - val_accuracy: 0.8554\n",
            "Epoch 49/100\n",
            "1790/1790 [==============================] - 4s 3ms/step - loss: 0.3535 - accuracy: 0.8535 - val_loss: 0.3731 - val_accuracy: 0.8489\n",
            "Epoch 50/100\n",
            "1790/1790 [==============================] - 4s 2ms/step - loss: 0.3581 - accuracy: 0.8497 - val_loss: 0.3489 - val_accuracy: 0.8558\n",
            "Epoch 51/100\n",
            "1790/1790 [==============================] - 5s 3ms/step - loss: 0.3536 - accuracy: 0.8516 - val_loss: 0.3595 - val_accuracy: 0.8476\n",
            "Epoch 52/100\n",
            "1790/1790 [==============================] - 4s 2ms/step - loss: 0.3604 - accuracy: 0.8497 - val_loss: 0.3649 - val_accuracy: 0.8525\n",
            "Epoch 53/100\n",
            "1790/1790 [==============================] - 5s 3ms/step - loss: 0.3551 - accuracy: 0.8503 - val_loss: 0.3911 - val_accuracy: 0.8288\n",
            "Epoch 54/100\n",
            "1790/1790 [==============================] - 5s 3ms/step - loss: 0.3559 - accuracy: 0.8534 - val_loss: 0.3600 - val_accuracy: 0.8558\n",
            "Epoch 55/100\n",
            "1790/1790 [==============================] - 4s 2ms/step - loss: 0.3531 - accuracy: 0.8521 - val_loss: 0.3487 - val_accuracy: 0.8578\n",
            "Epoch 56/100\n",
            "1790/1790 [==============================] - 6s 3ms/step - loss: 0.3535 - accuracy: 0.8531 - val_loss: 0.3463 - val_accuracy: 0.8561\n",
            "Epoch 57/100\n",
            "1790/1790 [==============================] - 4s 2ms/step - loss: 0.3559 - accuracy: 0.8498 - val_loss: 0.3452 - val_accuracy: 0.8587\n",
            "Epoch 58/100\n",
            "1790/1790 [==============================] - 4s 2ms/step - loss: 0.3573 - accuracy: 0.8502 - val_loss: 0.3577 - val_accuracy: 0.8473\n",
            "Epoch 59/100\n",
            "1790/1790 [==============================] - 5s 3ms/step - loss: 0.3601 - accuracy: 0.8517 - val_loss: 0.3641 - val_accuracy: 0.8518\n",
            "Epoch 60/100\n",
            "1790/1790 [==============================] - 4s 2ms/step - loss: 0.3553 - accuracy: 0.8498 - val_loss: 0.3492 - val_accuracy: 0.8614\n",
            "Epoch 61/100\n",
            "1790/1790 [==============================] - 4s 2ms/step - loss: 0.3565 - accuracy: 0.8508 - val_loss: 0.3489 - val_accuracy: 0.8556\n",
            "Epoch 62/100\n",
            "1790/1790 [==============================] - 5s 3ms/step - loss: 0.3559 - accuracy: 0.8502 - val_loss: 0.3392 - val_accuracy: 0.8643\n",
            "Epoch 63/100\n",
            "1790/1790 [==============================] - 4s 2ms/step - loss: 0.3517 - accuracy: 0.8520 - val_loss: 0.3533 - val_accuracy: 0.8516\n",
            "Epoch 64/100\n",
            "1790/1790 [==============================] - 5s 3ms/step - loss: 0.3560 - accuracy: 0.8490 - val_loss: 0.3385 - val_accuracy: 0.8661\n",
            "Epoch 65/100\n",
            "1790/1790 [==============================] - 5s 3ms/step - loss: 0.3539 - accuracy: 0.8526 - val_loss: 0.3456 - val_accuracy: 0.8616\n",
            "Epoch 66/100\n",
            "1790/1790 [==============================] - 4s 2ms/step - loss: 0.3534 - accuracy: 0.8511 - val_loss: 0.4204 - val_accuracy: 0.8169\n",
            "Epoch 67/100\n",
            "1790/1790 [==============================] - 6s 3ms/step - loss: 0.3555 - accuracy: 0.8520 - val_loss: 0.3497 - val_accuracy: 0.8603\n",
            "Epoch 68/100\n",
            "1790/1790 [==============================] - 4s 2ms/step - loss: 0.3546 - accuracy: 0.8493 - val_loss: 0.3553 - val_accuracy: 0.8563\n",
            "Epoch 69/100\n",
            "1790/1790 [==============================] - 4s 2ms/step - loss: 0.3597 - accuracy: 0.8522 - val_loss: 0.3779 - val_accuracy: 0.8395\n",
            "Epoch 70/100\n",
            "1790/1790 [==============================] - 5s 3ms/step - loss: 0.3509 - accuracy: 0.8567 - val_loss: 0.3694 - val_accuracy: 0.8442\n",
            "Epoch 71/100\n",
            "1790/1790 [==============================] - 4s 2ms/step - loss: 0.3573 - accuracy: 0.8509 - val_loss: 0.3600 - val_accuracy: 0.8572\n",
            "Epoch 72/100\n",
            "1790/1790 [==============================] - 5s 3ms/step - loss: 0.3584 - accuracy: 0.8500 - val_loss: 0.3504 - val_accuracy: 0.8614\n",
            "Epoch 73/100\n",
            "1790/1790 [==============================] - 5s 3ms/step - loss: 0.3547 - accuracy: 0.8498 - val_loss: 0.3436 - val_accuracy: 0.8540\n",
            "Epoch 74/100\n",
            "1790/1790 [==============================] - 4s 2ms/step - loss: 0.3540 - accuracy: 0.8510 - val_loss: 0.3585 - val_accuracy: 0.8556\n",
            "Epoch 75/100\n",
            "1790/1790 [==============================] - 5s 3ms/step - loss: 0.3554 - accuracy: 0.8482 - val_loss: 0.3535 - val_accuracy: 0.8487\n",
            "Epoch 76/100\n",
            "1790/1790 [==============================] - 4s 2ms/step - loss: 0.3536 - accuracy: 0.8519 - val_loss: 0.3565 - val_accuracy: 0.8659\n",
            "Epoch 77/100\n",
            "1790/1790 [==============================] - 4s 2ms/step - loss: 0.3514 - accuracy: 0.8538 - val_loss: 0.3410 - val_accuracy: 0.8610\n",
            "Epoch 78/100\n",
            "1790/1790 [==============================] - 5s 3ms/step - loss: 0.3528 - accuracy: 0.8514 - val_loss: 0.3492 - val_accuracy: 0.8599\n",
            "Epoch 79/100\n",
            "1790/1790 [==============================] - 4s 2ms/step - loss: 0.3568 - accuracy: 0.8496 - val_loss: 0.3606 - val_accuracy: 0.8532\n",
            "Epoch 80/100\n",
            "1790/1790 [==============================] - 4s 2ms/step - loss: 0.3552 - accuracy: 0.8507 - val_loss: 0.3556 - val_accuracy: 0.8572\n",
            "Epoch 81/100\n",
            "1790/1790 [==============================] - 5s 3ms/step - loss: 0.3500 - accuracy: 0.8527 - val_loss: 0.3507 - val_accuracy: 0.8590\n",
            "Epoch 82/100\n",
            "1790/1790 [==============================] - 4s 2ms/step - loss: 0.3570 - accuracy: 0.8514 - val_loss: 0.3432 - val_accuracy: 0.8643\n",
            "Epoch 83/100\n",
            "1790/1790 [==============================] - 5s 3ms/step - loss: 0.3536 - accuracy: 0.8505 - val_loss: 0.3615 - val_accuracy: 0.8585\n",
            "Epoch 84/100\n",
            "1790/1790 [==============================] - 5s 3ms/step - loss: 0.3549 - accuracy: 0.8502 - val_loss: 0.3449 - val_accuracy: 0.8641\n",
            "Epoch 85/100\n",
            "1790/1790 [==============================] - 4s 2ms/step - loss: 0.3555 - accuracy: 0.8530 - val_loss: 0.3528 - val_accuracy: 0.8549\n",
            "Epoch 86/100\n",
            "1790/1790 [==============================] - 5s 3ms/step - loss: 0.3531 - accuracy: 0.8524 - val_loss: 0.3427 - val_accuracy: 0.8623\n",
            "Epoch 87/100\n",
            "1790/1790 [==============================] - 4s 2ms/step - loss: 0.3536 - accuracy: 0.8550 - val_loss: 0.3381 - val_accuracy: 0.8612\n",
            "Epoch 88/100\n",
            "1790/1790 [==============================] - 4s 2ms/step - loss: 0.3521 - accuracy: 0.8516 - val_loss: 0.3580 - val_accuracy: 0.8523\n",
            "Epoch 89/100\n",
            "1790/1790 [==============================] - 5s 3ms/step - loss: 0.3524 - accuracy: 0.8517 - val_loss: 0.3530 - val_accuracy: 0.8637\n",
            "Epoch 90/100\n",
            "1790/1790 [==============================] - 5s 3ms/step - loss: 0.3560 - accuracy: 0.8491 - val_loss: 0.3574 - val_accuracy: 0.8596\n",
            "Epoch 91/100\n",
            "1790/1790 [==============================] - 5s 3ms/step - loss: 0.3615 - accuracy: 0.8545 - val_loss: 0.3629 - val_accuracy: 0.8469\n",
            "Epoch 92/100\n",
            "1790/1790 [==============================] - 5s 3ms/step - loss: 0.3508 - accuracy: 0.8521 - val_loss: 0.3491 - val_accuracy: 0.8621\n",
            "Epoch 93/100\n",
            "1790/1790 [==============================] - 4s 3ms/step - loss: 0.3531 - accuracy: 0.8507 - val_loss: 0.3425 - val_accuracy: 0.8657\n",
            "Epoch 94/100\n",
            "1790/1790 [==============================] - 5s 3ms/step - loss: 0.3518 - accuracy: 0.8523 - val_loss: 0.3424 - val_accuracy: 0.8587\n",
            "Epoch 95/100\n",
            "1790/1790 [==============================] - 4s 2ms/step - loss: 0.3508 - accuracy: 0.8530 - val_loss: 0.3580 - val_accuracy: 0.8572\n",
            "Epoch 96/100\n",
            "1790/1790 [==============================] - 4s 2ms/step - loss: 0.3508 - accuracy: 0.8535 - val_loss: 0.3615 - val_accuracy: 0.8594\n",
            "Epoch 97/100\n",
            "1790/1790 [==============================] - 6s 3ms/step - loss: 0.3474 - accuracy: 0.8548 - val_loss: 0.3408 - val_accuracy: 0.8572\n",
            "Epoch 98/100\n",
            "1790/1790 [==============================] - 4s 2ms/step - loss: 0.3543 - accuracy: 0.8535 - val_loss: 0.3881 - val_accuracy: 0.8373\n",
            "Epoch 99/100\n",
            "1790/1790 [==============================] - 5s 3ms/step - loss: 0.3532 - accuracy: 0.8519 - val_loss: 0.3584 - val_accuracy: 0.8538\n",
            "Epoch 100/100\n",
            "1790/1790 [==============================] - 5s 3ms/step - loss: 0.3478 - accuracy: 0.8539 - val_loss: 0.3528 - val_accuracy: 0.8668\n"
          ]
        }
      ]
    },
    {
      "cell_type": "code",
      "source": [
        "loaded_model = new_model = tf.keras.models.load_model(dest_path+'/best_model.h5')"
      ],
      "metadata": {
        "id": "IZW3WR1fganO"
      },
      "execution_count": 102,
      "outputs": []
    },
    {
      "cell_type": "code",
      "source": [
        "loaded_model.summary()"
      ],
      "metadata": {
        "colab": {
          "base_uri": "https://localhost:8080/"
        },
        "id": "1ytFLka5ldXO",
        "outputId": "5d0a96a0-2abe-41e6-eb00-70471a62d902"
      },
      "execution_count": 103,
      "outputs": [
        {
          "output_type": "stream",
          "name": "stdout",
          "text": [
            "Model: \"sequential_2\"\n",
            "_________________________________________________________________\n",
            " Layer (type)                Output Shape              Param #   \n",
            "=================================================================\n",
            " HLayer1 (Dense)             (None, 60)                1320      \n",
            "                                                                 \n",
            " dropout (Dropout)           (None, 60)                0         \n",
            "                                                                 \n",
            " HLayer2 (Dense)             (None, 30)                1830      \n",
            "                                                                 \n",
            " dropout_1 (Dropout)         (None, 30)                0         \n",
            "                                                                 \n",
            " HLayer3 (Dense)             (None, 15)                465       \n",
            "                                                                 \n",
            " dropout_2 (Dropout)         (None, 15)                0         \n",
            "                                                                 \n",
            " outputlayer (Dense)         (None, 1)                 16        \n",
            "                                                                 \n",
            "=================================================================\n",
            "Total params: 3,631\n",
            "Trainable params: 3,631\n",
            "Non-trainable params: 0\n",
            "_________________________________________________________________\n"
          ]
        }
      ]
    },
    {
      "cell_type": "code",
      "source": [
        "loaded_model.evaluate(X_test,y_test)"
      ],
      "metadata": {
        "colab": {
          "base_uri": "https://localhost:8080/"
        },
        "id": "Y2In-P4sdXiJ",
        "outputId": "d22a874b-46ac-4648-aa47-1e6cf9c1d6e2"
      },
      "execution_count": 104,
      "outputs": [
        {
          "output_type": "stream",
          "name": "stdout",
          "text": [
            "175/175 [==============================] - 0s 2ms/step - loss: 0.3499 - accuracy: 0.8630\n"
          ]
        },
        {
          "output_type": "execute_result",
          "data": {
            "text/plain": [
              "[0.34989625215530396, 0.8630430698394775]"
            ]
          },
          "metadata": {},
          "execution_count": 104
        }
      ]
    },
    {
      "cell_type": "code",
      "source": [
        "y_pred_nn = loaded_model.predict(X_test)"
      ],
      "metadata": {
        "colab": {
          "base_uri": "https://localhost:8080/"
        },
        "id": "Ey2yCCNVKmwX",
        "outputId": "8002dc0e-1794-48b3-b184-67b3b813fa5e"
      },
      "execution_count": 105,
      "outputs": [
        {
          "output_type": "stream",
          "name": "stdout",
          "text": [
            "175/175 [==============================] - 0s 1ms/step\n"
          ]
        }
      ]
    },
    {
      "cell_type": "code",
      "source": [
        "import numpy as np\n",
        "y_pred_nn = np.round(y_pred_nn.squeeze())"
      ],
      "metadata": {
        "id": "5UPjzOGxNMvF"
      },
      "execution_count": 106,
      "outputs": []
    },
    {
      "cell_type": "code",
      "source": [
        "pd.DataFrame(y_pred_nn[:10], y_test[:10])"
      ],
      "metadata": {
        "colab": {
          "base_uri": "https://localhost:8080/",
          "height": 394
        },
        "id": "yL3i61spcGkJ",
        "outputId": "47386034-37c5-4bc1-aec0-434d30041faf"
      },
      "execution_count": 107,
      "outputs": [
        {
          "output_type": "execute_result",
          "data": {
            "text/plain": [
              "                     0\n",
              "went_on_backorder     \n",
              "0.0                0.0\n",
              "1.0                1.0\n",
              "1.0                0.0\n",
              "0.0                0.0\n",
              "1.0                1.0\n",
              "0.0                0.0\n",
              "0.0                0.0\n",
              "0.0                0.0\n",
              "1.0                1.0\n",
              "0.0                0.0"
            ],
            "text/html": [
              "\n",
              "\n",
              "  <div id=\"df-6248c235-e9ef-47d3-b82f-72cf8ffc0c6f\">\n",
              "    <div class=\"colab-df-container\">\n",
              "      <div>\n",
              "<style scoped>\n",
              "    .dataframe tbody tr th:only-of-type {\n",
              "        vertical-align: middle;\n",
              "    }\n",
              "\n",
              "    .dataframe tbody tr th {\n",
              "        vertical-align: top;\n",
              "    }\n",
              "\n",
              "    .dataframe thead th {\n",
              "        text-align: right;\n",
              "    }\n",
              "</style>\n",
              "<table border=\"1\" class=\"dataframe\">\n",
              "  <thead>\n",
              "    <tr style=\"text-align: right;\">\n",
              "      <th></th>\n",
              "      <th>0</th>\n",
              "    </tr>\n",
              "    <tr>\n",
              "      <th>went_on_backorder</th>\n",
              "      <th></th>\n",
              "    </tr>\n",
              "  </thead>\n",
              "  <tbody>\n",
              "    <tr>\n",
              "      <th>0.0</th>\n",
              "      <td>0.0</td>\n",
              "    </tr>\n",
              "    <tr>\n",
              "      <th>1.0</th>\n",
              "      <td>1.0</td>\n",
              "    </tr>\n",
              "    <tr>\n",
              "      <th>1.0</th>\n",
              "      <td>0.0</td>\n",
              "    </tr>\n",
              "    <tr>\n",
              "      <th>0.0</th>\n",
              "      <td>0.0</td>\n",
              "    </tr>\n",
              "    <tr>\n",
              "      <th>1.0</th>\n",
              "      <td>1.0</td>\n",
              "    </tr>\n",
              "    <tr>\n",
              "      <th>0.0</th>\n",
              "      <td>0.0</td>\n",
              "    </tr>\n",
              "    <tr>\n",
              "      <th>0.0</th>\n",
              "      <td>0.0</td>\n",
              "    </tr>\n",
              "    <tr>\n",
              "      <th>0.0</th>\n",
              "      <td>0.0</td>\n",
              "    </tr>\n",
              "    <tr>\n",
              "      <th>1.0</th>\n",
              "      <td>1.0</td>\n",
              "    </tr>\n",
              "    <tr>\n",
              "      <th>0.0</th>\n",
              "      <td>0.0</td>\n",
              "    </tr>\n",
              "  </tbody>\n",
              "</table>\n",
              "</div>\n",
              "      <button class=\"colab-df-convert\" onclick=\"convertToInteractive('df-6248c235-e9ef-47d3-b82f-72cf8ffc0c6f')\"\n",
              "              title=\"Convert this dataframe to an interactive table.\"\n",
              "              style=\"display:none;\">\n",
              "\n",
              "  <svg xmlns=\"http://www.w3.org/2000/svg\" height=\"24px\"viewBox=\"0 0 24 24\"\n",
              "       width=\"24px\">\n",
              "    <path d=\"M0 0h24v24H0V0z\" fill=\"none\"/>\n",
              "    <path d=\"M18.56 5.44l.94 2.06.94-2.06 2.06-.94-2.06-.94-.94-2.06-.94 2.06-2.06.94zm-11 1L8.5 8.5l.94-2.06 2.06-.94-2.06-.94L8.5 2.5l-.94 2.06-2.06.94zm10 10l.94 2.06.94-2.06 2.06-.94-2.06-.94-.94-2.06-.94 2.06-2.06.94z\"/><path d=\"M17.41 7.96l-1.37-1.37c-.4-.4-.92-.59-1.43-.59-.52 0-1.04.2-1.43.59L10.3 9.45l-7.72 7.72c-.78.78-.78 2.05 0 2.83L4 21.41c.39.39.9.59 1.41.59.51 0 1.02-.2 1.41-.59l7.78-7.78 2.81-2.81c.8-.78.8-2.07 0-2.86zM5.41 20L4 18.59l7.72-7.72 1.47 1.35L5.41 20z\"/>\n",
              "  </svg>\n",
              "      </button>\n",
              "\n",
              "\n",
              "\n",
              "    <div id=\"df-948bb105-cfb5-4247-a165-98a029d34e8b\">\n",
              "      <button class=\"colab-df-quickchart\" onclick=\"quickchart('df-948bb105-cfb5-4247-a165-98a029d34e8b')\"\n",
              "              title=\"Suggest charts.\"\n",
              "              style=\"display:none;\">\n",
              "\n",
              "<svg xmlns=\"http://www.w3.org/2000/svg\" height=\"24px\"viewBox=\"0 0 24 24\"\n",
              "     width=\"24px\">\n",
              "    <g>\n",
              "        <path d=\"M19 3H5c-1.1 0-2 .9-2 2v14c0 1.1.9 2 2 2h14c1.1 0 2-.9 2-2V5c0-1.1-.9-2-2-2zM9 17H7v-7h2v7zm4 0h-2V7h2v10zm4 0h-2v-4h2v4z\"/>\n",
              "    </g>\n",
              "</svg>\n",
              "      </button>\n",
              "    </div>\n",
              "\n",
              "<style>\n",
              "  .colab-df-quickchart {\n",
              "    background-color: #E8F0FE;\n",
              "    border: none;\n",
              "    border-radius: 50%;\n",
              "    cursor: pointer;\n",
              "    display: none;\n",
              "    fill: #1967D2;\n",
              "    height: 32px;\n",
              "    padding: 0 0 0 0;\n",
              "    width: 32px;\n",
              "  }\n",
              "\n",
              "  .colab-df-quickchart:hover {\n",
              "    background-color: #E2EBFA;\n",
              "    box-shadow: 0px 1px 2px rgba(60, 64, 67, 0.3), 0px 1px 3px 1px rgba(60, 64, 67, 0.15);\n",
              "    fill: #174EA6;\n",
              "  }\n",
              "\n",
              "  [theme=dark] .colab-df-quickchart {\n",
              "    background-color: #3B4455;\n",
              "    fill: #D2E3FC;\n",
              "  }\n",
              "\n",
              "  [theme=dark] .colab-df-quickchart:hover {\n",
              "    background-color: #434B5C;\n",
              "    box-shadow: 0px 1px 3px 1px rgba(0, 0, 0, 0.15);\n",
              "    filter: drop-shadow(0px 1px 2px rgba(0, 0, 0, 0.3));\n",
              "    fill: #FFFFFF;\n",
              "  }\n",
              "</style>\n",
              "\n",
              "    <script>\n",
              "      async function quickchart(key) {\n",
              "        const containerElement = document.querySelector('#' + key);\n",
              "        const charts = await google.colab.kernel.invokeFunction(\n",
              "            'suggestCharts', [key], {});\n",
              "      }\n",
              "    </script>\n",
              "\n",
              "      <script>\n",
              "\n",
              "function displayQuickchartButton(domScope) {\n",
              "  let quickchartButtonEl =\n",
              "    domScope.querySelector('#df-948bb105-cfb5-4247-a165-98a029d34e8b button.colab-df-quickchart');\n",
              "  quickchartButtonEl.style.display =\n",
              "    google.colab.kernel.accessAllowed ? 'block' : 'none';\n",
              "}\n",
              "\n",
              "        displayQuickchartButton(document);\n",
              "      </script>\n",
              "      <style>\n",
              "    .colab-df-container {\n",
              "      display:flex;\n",
              "      flex-wrap:wrap;\n",
              "      gap: 12px;\n",
              "    }\n",
              "\n",
              "    .colab-df-convert {\n",
              "      background-color: #E8F0FE;\n",
              "      border: none;\n",
              "      border-radius: 50%;\n",
              "      cursor: pointer;\n",
              "      display: none;\n",
              "      fill: #1967D2;\n",
              "      height: 32px;\n",
              "      padding: 0 0 0 0;\n",
              "      width: 32px;\n",
              "    }\n",
              "\n",
              "    .colab-df-convert:hover {\n",
              "      background-color: #E2EBFA;\n",
              "      box-shadow: 0px 1px 2px rgba(60, 64, 67, 0.3), 0px 1px 3px 1px rgba(60, 64, 67, 0.15);\n",
              "      fill: #174EA6;\n",
              "    }\n",
              "\n",
              "    [theme=dark] .colab-df-convert {\n",
              "      background-color: #3B4455;\n",
              "      fill: #D2E3FC;\n",
              "    }\n",
              "\n",
              "    [theme=dark] .colab-df-convert:hover {\n",
              "      background-color: #434B5C;\n",
              "      box-shadow: 0px 1px 3px 1px rgba(0, 0, 0, 0.15);\n",
              "      filter: drop-shadow(0px 1px 2px rgba(0, 0, 0, 0.3));\n",
              "      fill: #FFFFFF;\n",
              "    }\n",
              "  </style>\n",
              "\n",
              "      <script>\n",
              "        const buttonEl =\n",
              "          document.querySelector('#df-6248c235-e9ef-47d3-b82f-72cf8ffc0c6f button.colab-df-convert');\n",
              "        buttonEl.style.display =\n",
              "          google.colab.kernel.accessAllowed ? 'block' : 'none';\n",
              "\n",
              "        async function convertToInteractive(key) {\n",
              "          const element = document.querySelector('#df-6248c235-e9ef-47d3-b82f-72cf8ffc0c6f');\n",
              "          const dataTable =\n",
              "            await google.colab.kernel.invokeFunction('convertToInteractive',\n",
              "                                                     [key], {});\n",
              "          if (!dataTable) return;\n",
              "\n",
              "          const docLinkHtml = 'Like what you see? Visit the ' +\n",
              "            '<a target=\"_blank\" href=https://colab.research.google.com/notebooks/data_table.ipynb>data table notebook</a>'\n",
              "            + ' to learn more about interactive tables.';\n",
              "          element.innerHTML = '';\n",
              "          dataTable['output_type'] = 'display_data';\n",
              "          await google.colab.output.renderOutput(dataTable, element);\n",
              "          const docLink = document.createElement('div');\n",
              "          docLink.innerHTML = docLinkHtml;\n",
              "          element.appendChild(docLink);\n",
              "        }\n",
              "      </script>\n",
              "    </div>\n",
              "  </div>\n"
            ]
          },
          "metadata": {},
          "execution_count": 107
        }
      ]
    },
    {
      "cell_type": "code",
      "source": [
        "import matplotlib.pyplot as plt\n",
        "\n",
        "plt.plot(binary_clf.history['loss'],color='red',label='train')\n",
        "plt.plot(binary_clf.history['val_loss'],color='blue',label='validation')"
      ],
      "metadata": {
        "colab": {
          "base_uri": "https://localhost:8080/",
          "height": 447
        },
        "id": "zbpHh5AQQvuD",
        "outputId": "27337300-1bb7-4eb4-ed35-0473c30e316b"
      },
      "execution_count": 108,
      "outputs": [
        {
          "output_type": "execute_result",
          "data": {
            "text/plain": [
              "[<matplotlib.lines.Line2D at 0x7c5947494cd0>]"
            ]
          },
          "metadata": {},
          "execution_count": 108
        },
        {
          "output_type": "display_data",
          "data": {
            "text/plain": [
              "<Figure size 640x480 with 1 Axes>"
            ],
            "image/png": "[encoded data removed]"
          },
          "metadata": {}
        }
      ]
    },
    {
      "cell_type": "code",
      "source": [
        "print(classification_report(y_pred_nn, y_test))"
      ],
      "metadata": {
        "colab": {
          "base_uri": "https://localhost:8080/"
        },
        "id": "VA9uZHvZZZPp",
        "outputId": "040c4596-3d8d-475e-b798-986216520854"
      },
      "execution_count": 109,
      "outputs": [
        {
          "output_type": "stream",
          "name": "stdout",
          "text": [
            "              precision    recall  f1-score   support\n",
            "\n",
            "         0.0       0.85      0.88      0.86      2765\n",
            "         1.0       0.88      0.85      0.86      2828\n",
            "\n",
            "    accuracy                           0.86      5593\n",
            "   macro avg       0.86      0.86      0.86      5593\n",
            "weighted avg       0.86      0.86      0.86      5593\n",
            "\n"
          ]
        }
      ]
    },
    {
      "cell_type": "code",
      "source": [],
      "metadata": {
        "id": "7yw2LtmeepaR"
      },
      "execution_count": 110,
      "outputs": []
    },
    {
      "cell_type": "code",
      "source": [],
      "metadata": {
        "id": "r9MByLNqqvVj"
      },
      "execution_count": null,
      "outputs": []
    }
  ]
}